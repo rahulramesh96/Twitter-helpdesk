{
 "cells": [
  {
   "cell_type": "code",
   "execution_count": 1,
   "metadata": {},
   "outputs": [],
   "source": [
    "from pymongo import MongoClient\n",
    "\n",
    "db = MongoClient().get_database('summer-project')"
   ]
  },
  {
   "cell_type": "code",
   "execution_count": 2,
   "metadata": {},
   "outputs": [],
   "source": [
    "clients = ['ola_supports', 'gmail', 'UberINSupport', 'flipkartsupport']\n",
    "# clients = ['ola_supports']\n",
    "\n",
    "from itertools import cycle\n",
    "\n",
    "tweet_by_client = {}\n",
    "for c in clients:\n",
    "#     l = []\n",
    "#     for t in db.tweets.find({'in_reply_to_status_id_str': {'$ne': None}, 'user.screen_name': c}):\n",
    "#         l.append((t, db.tweets.find_one({'id_str': t['in_reply_to_status_id_str']})))\n",
    "#     tweet_by_client[c] = l\n",
    "    tweet_by_client[c] = list(db.tweets.find({'in_reply_to_status_id_str': {'$ne': None}, 'user.screen_name': c}))"
   ]
  },
  {
   "cell_type": "code",
   "execution_count": 3,
   "metadata": {},
   "outputs": [
    {
     "name": "stdout",
     "output_type": "stream",
     "text": [
      "ola_supports 10039 2\n",
      "gmail 8604 0\n",
      "UberINSupport 9998 3\n",
      "flipkartsupport 9795 0\n"
     ]
    }
   ],
   "source": [
    "parent_tweets = {}\n",
    "for c in clients:\n",
    "    parent_ids = [each['in_reply_to_status_id_str'] for each in tweet_by_client[c]]\n",
    "    parent_tweets[c] = list(db.tweets.find({'id_str': {'$in': parent_ids}}))\n",
    "    print(c, len(parent_ids), len(parent_tweets[c]))"
   ]
  },
  {
   "cell_type": "code",
   "execution_count": 4,
   "metadata": {},
   "outputs": [],
   "source": [
    "parent_not_by_clients = {}\n",
    "for c in clients:\n",
    "    parent_ids = [each['in_reply_to_status_id_str'] for each in tweet_by_client[c]]\n",
    "    parent_not_by_clients[c] = list(db.tweets.find({'id_str': {'$in': parent_ids}, 'user.screen_name': {'$ne': c}}))"
   ]
  },
  {
   "cell_type": "code",
   "execution_count": 5,
   "metadata": {},
   "outputs": [
    {
     "name": "stdout",
     "output_type": "stream",
     "text": [
      "ola_supports 10039 2 0\n",
      "gmail 8604 0 0\n",
      "UberINSupport 9998 3 0\n",
      "flipkartsupport 9795 0 0\n"
     ]
    }
   ],
   "source": [
    "for c in clients:\n",
    "    print(c,\n",
    "         len(tweet_by_client[c]),\n",
    "         len(parent_tweets[c]),\n",
    "         len(parent_not_by_clients[c])\n",
    "         )"
   ]
  }
 ],
 "metadata": {
  "kernelspec": {
   "display_name": "Python 3",
   "language": "python",
   "name": "python3"
  },
  "language_info": {
   "codemirror_mode": {
    "name": "ipython",
    "version": 3
   },
   "file_extension": ".py",
   "mimetype": "text/x-python",
   "name": "python",
   "nbconvert_exporter": "python",
   "pygments_lexer": "ipython3",
   "version": "3.6.5"
  }
 },
 "nbformat": 4,
 "nbformat_minor": 2
}
