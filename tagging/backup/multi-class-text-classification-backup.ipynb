{
 "cells": [
  {
   "cell_type": "code",
   "execution_count": 1,
   "metadata": {},
   "outputs": [],
   "source": [
    "from pymongo import MongoClient\n",
    "import pandas as pd\n",
    "import matplotlib.pyplot as plt\n",
    "import numpy as np"
   ]
  },
  {
   "cell_type": "code",
   "execution_count": 2,
   "metadata": {},
   "outputs": [
    {
     "name": "stdout",
     "output_type": "stream",
     "text": [
      "There are total 601 conversations\n"
     ]
    }
   ],
   "source": [
    "screen_name = 'ola_supports'\n",
    "db = MongoClient().get_database('not-truncated')\n",
    "convs = list(db.conversations.find({'screen_name': screen_name, 'topics': {'$ne': []}}))\n",
    "print('There are total', len(convs), 'conversations')"
   ]
  },
  {
   "cell_type": "code",
   "execution_count": 3,
   "metadata": {},
   "outputs": [
    {
     "name": "stdout",
     "output_type": "stream",
     "text": [
      "1730 records\n"
     ]
    },
    {
     "data": {
      "text/html": [
       "<div>\n",
       "<style scoped>\n",
       "    .dataframe tbody tr th:only-of-type {\n",
       "        vertical-align: middle;\n",
       "    }\n",
       "\n",
       "    .dataframe tbody tr th {\n",
       "        vertical-align: top;\n",
       "    }\n",
       "\n",
       "    .dataframe thead th {\n",
       "        text-align: right;\n",
       "    }\n",
       "</style>\n",
       "<table border=\"1\" class=\"dataframe\">\n",
       "  <thead>\n",
       "    <tr style=\"text-align: right;\">\n",
       "      <th></th>\n",
       "      <th>message</th>\n",
       "      <th>topic</th>\n",
       "    </tr>\n",
       "  </thead>\n",
       "  <tbody>\n",
       "    <tr>\n",
       "      <th>0</th>\n",
       "      <td>Hi Hetan, we are sorry for the denial. We have...</td>\n",
       "      <td>delay</td>\n",
       "    </tr>\n",
       "    <tr>\n",
       "      <th>1</th>\n",
       "      <td>Hi Hetan, we are sorry for the denial. We have...</td>\n",
       "      <td>driver_denied</td>\n",
       "    </tr>\n",
       "    <tr>\n",
       "      <th>2</th>\n",
       "      <td>What a morning ride  Booked a mini cab, waited...</td>\n",
       "      <td>delay</td>\n",
       "    </tr>\n",
       "    <tr>\n",
       "      <th>3</th>\n",
       "      <td>What a morning ride  Booked a mini cab, waited...</td>\n",
       "      <td>driver_denied</td>\n",
       "    </tr>\n",
       "    <tr>\n",
       "      <th>4</th>\n",
       "      <td>I would like to know what action was taken reg...</td>\n",
       "      <td>ola_share</td>\n",
       "    </tr>\n",
       "  </tbody>\n",
       "</table>\n",
       "</div>"
      ],
      "text/plain": [
       "                                             message          topic\n",
       "0  Hi Hetan, we are sorry for the denial. We have...          delay\n",
       "1  Hi Hetan, we are sorry for the denial. We have...  driver_denied\n",
       "2  What a morning ride  Booked a mini cab, waited...          delay\n",
       "3  What a morning ride  Booked a mini cab, waited...  driver_denied\n",
       "4  I would like to know what action was taken reg...      ola_share"
      ]
     },
     "execution_count": 3,
     "metadata": {},
     "output_type": "execute_result"
    }
   ],
   "source": [
    "# flatten it\n",
    "\n",
    "dataset = []\n",
    "topics_to_ignore = ['undefined', 'poor_experience', 'random_query']\n",
    "cant_coexist = [\n",
    "    ('overcharged', 'payments'),\n",
    "    ('cancellation_charged', 'overcharged'),\n",
    "    ('driver_denied', 'cancellation_charged'),\n",
    "]\n",
    "# cant_coexist = []\n",
    "\n",
    "for c in convs:\n",
    "    topics_here = [t for t in c['topics'] if t not in topics_to_ignore]\n",
    "    \n",
    "    # manually remove second topic from pairs if they co-exist\n",
    "    for to_keep, to_discard in cant_coexist:\n",
    "        if to_keep in topics_here and to_discard in topics_here:\n",
    "            topics_here.remove(to_discard)\n",
    "    \n",
    "    \n",
    "    for m in filter(lambda msg: msg['important'], c['messages']):\n",
    "        for t in topics_here:\n",
    "            dataset.append({'message': m['processed_text'].replace('\\n', ''), 'topic': t})\n",
    "        \n",
    "df = pd.DataFrame(dataset)\n",
    "print(df.size, 'records')\n",
    "\n",
    "df.head()"
   ]
  },
  {
   "cell_type": "code",
   "execution_count": 4,
   "metadata": {},
   "outputs": [
    {
     "name": "stdout",
     "output_type": "stream",
     "text": [
      "driver_denied           177\n",
      "overcharged             140\n",
      "misbehaviour            124\n",
      "delay                    88\n",
      "app_issue                87\n",
      "customer_support         73\n",
      "payments                 64\n",
      "cancellation_charged     36\n",
      "ola_share                22\n",
      "ola_auto                 21\n",
      "no_service               20\n",
      "promo_codes               8\n",
      "ola_outstation            5\n",
      "Name: topic, dtype: int64\n"
     ]
    },
    {
     "data": {
      "text/plain": [
       "<matplotlib.axes._subplots.AxesSubplot at 0x7ffb2d78ab70>"
      ]
     },
     "execution_count": 4,
     "metadata": {},
     "output_type": "execute_result"
    },
    {
     "data": {
      "image/png": "[encoded data removed]",
      "text/plain": [
       "<Figure size 432x288 with 1 Axes>"
      ]
     },
     "metadata": {},
     "output_type": "display_data"
    }
   ],
   "source": [
    "topic_counts = df['topic'].value_counts()\n",
    "print(topic_counts)\n",
    "topic_counts.plot.bar()"
   ]
  },
  {
   "cell_type": "code",
   "execution_count": 5,
   "metadata": {},
   "outputs": [
    {
     "name": "stdout",
     "output_type": "stream",
     "text": [
      "50 is the cutoff frequency\n",
      "Selected topics are ['driver_denied' 'overcharged' 'misbehaviour' 'delay' 'app_issue'\n",
      " 'customer_support' 'payments']\n",
      "1730 records reduced to 1506 records\n"
     ]
    },
    {
     "data": {
      "text/plain": [
       "<matplotlib.axes._subplots.AxesSubplot at 0x7ffb2d3ad208>"
      ]
     },
     "execution_count": 5,
     "metadata": {},
     "output_type": "execute_result"
    },
    {
     "data": {
      "image/png": "[encoded data removed]",
      "text/plain": [
       "<Figure size 432x288 with 1 Axes>"
      ]
     },
     "metadata": {},
     "output_type": "display_data"
    }
   ],
   "source": [
    "# remove values below a certain frequency\n",
    "cutoff_freq = int(0.15 * len(convs))\n",
    "cutoff_freq = 50\n",
    "print(cutoff_freq, 'is the cutoff frequency')\n",
    "selected_topics = topic_counts[topic_counts > cutoff_freq]\n",
    "print('Selected topics are', selected_topics.index.values)\n",
    "\n",
    "l1 = df.size\n",
    "df = df.loc[df['topic'].isin(selected_topics.index.values)]\n",
    "l2 = df.size\n",
    "print(l1, 'records reduced to', l2, 'records')\n",
    "\n",
    "original_df = df.copy()\n",
    "\n",
    "df['topic'].value_counts().plot.bar()"
   ]
  },
  {
   "cell_type": "code",
   "execution_count": 6,
   "metadata": {},
   "outputs": [
    {
     "name": "stdout",
     "output_type": "stream",
     "text": [
      "[92 90 90]\n",
      "delay               88\n",
      "app_issue           87\n",
      "customer_support    73\n",
      "payments            64\n",
      "Name: topic, dtype: int64\n",
      "Total 312 entries\n"
     ]
    },
    {
     "data": {
      "text/plain": [
       "<matplotlib.axes._subplots.AxesSubplot at 0x7ffb2d32afd0>"
      ]
     },
     "execution_count": 6,
     "metadata": {},
     "output_type": "execute_result"
    },
    {
     "data": {
      "image/png": "[encoded data removed]",
      "text/plain": [
       "<Figure size 432x288 with 1 Axes>"
      ]
     },
     "metadata": {},
     "output_type": "display_data"
    }
   ],
   "source": [
    "# # undersampling more frequent topics\n",
    "# df = original_df.copy()\n",
    "\n",
    "# median_freq = selected_topics.median().astype(int)\n",
    "# topics_to_undersample = selected_topics[selected_topics > median_freq].index.values\n",
    "\n",
    "# # get `median_freq + small random number` records for each topic to be undersampled\n",
    "# undersampling_freq = (np.random.rand(len(topics_to_undersample)) * 10).astype(int) + median_freq\n",
    "# print(undersampling_freq)\n",
    "# undersampled_dfs = [df[df['topic'] == topic].sample(count) \n",
    "#                     for count, topic in zip(undersampling_freq,  topics_to_undersample)]\n",
    "\n",
    "# for topic, undersampled_one in zip(topics_to_undersample, undersampled_dfs):\n",
    "#     df = df[df['topic'] != topic]\n",
    "#     df.append(undersampled_one)\n",
    "\n",
    "# topic_counts = df['topic'].value_counts()\n",
    "# print(topic_counts)\n",
    "# print('Total', topic_counts.sum(), 'entries')\n",
    "# topic_counts.plot.bar()"
   ]
  },
  {
   "cell_type": "code",
   "execution_count": 7,
   "metadata": {},
   "outputs": [],
   "source": [
    "# # oversampling less frequent topics\n",
    "# df = original_df.copy()\n",
    "\n",
    "# median_freq = selected_topics.median().astype(int)\n",
    "# topics_to_oversample = selected_topics[selected_topics < median_freq].index.values\n",
    "# print(topics_to_oversample)\n",
    "\n",
    "# # get `median_freq + small random number` records for each topic to be undersampled\n",
    "# oversampling_freq = median_freq - (np.random.rand(len(topics_to_undersample)) * 10).astype(int)\n",
    "# print(oversampling_freq)\n",
    "# oversampled_dfs = [pd.concat(df[df['topic'] == topic] * math.ceil(count / selected_topics[topic])\n",
    "#                    for count, topic in zip(oversampling_freq,  topics_to_oversample)]\n",
    "\n",
    "# for topic, undersampled_one in zip(topics_to_undersample, undersampled_dfs):\n",
    "#     df = df[df['topic'] != topic]\n",
    "#     df.append(undersampled_one)\n",
    "\n",
    "# topic_counts = df['topic'].value_counts()\n",
    "# print(topic_counts)\n",
    "# print('Total', topic_counts.sum(), 'entries')\n",
    "# topic_counts.plot.bar()"
   ]
  },
  {
   "cell_type": "code",
   "execution_count": 8,
   "metadata": {},
   "outputs": [],
   "source": [
    "df['topic_id'] = df['topic'].factorize()[0]\n",
    "\n",
    "topic_id_df = df[['topic', 'topic_id']].drop_duplicates().sort_values('topic_id')\n",
    "topic_to_id = dict(topic_id_df.values)\n",
    "id_to_topic = dict(topic_id_df[['topic_id', 'topic']].values)"
   ]
  },
  {
   "cell_type": "code",
   "execution_count": 9,
   "metadata": {},
   "outputs": [
    {
     "data": {
      "text/plain": [
       "(312, 220)"
      ]
     },
     "execution_count": 9,
     "metadata": {},
     "output_type": "execute_result"
    }
   ],
   "source": [
    "# text vectorization\n",
    "from sklearn.feature_extraction.text import TfidfVectorizer\n",
    "\n",
    "tfidf = TfidfVectorizer(sublinear_tf=True, min_df=5, norm='l2', encoding='utf-8', \n",
    "                        ngram_range=(1, 2), stop_words='english')\n",
    "\n",
    "features = tfidf.fit_transform(df.message).toarray()\n",
    "labels = df['topic_id']\n",
    "features.shape"
   ]
  },
  {
   "cell_type": "code",
   "execution_count": 10,
   "metadata": {},
   "outputs": [
    {
     "name": "stdout",
     "output_type": "stream",
     "text": [
      "For app_issue\n",
      "\t Unigrams > ['working', 'app']\n",
      "\t Bigrams > ['ola app', 'ola money']\n",
      "For customer_support\n",
      "\t Unigrams > ['number', 'customer']\n",
      "\t Bigrams > ['customer service', 'customer care']\n",
      "For delay\n",
      "\t Unigrams > ['late', 'drop']\n",
      "\t Bigrams > ['ola money', '30 mins']\n",
      "For payments\n",
      "\t Unigrams > ['money', 'payment']\n",
      "\t Bigrams > ['ola credit', 'ola money']\n"
     ]
    }
   ],
   "source": [
    "# find most correlated topics\n",
    "from sklearn.feature_selection import chi2\n",
    "import numpy as np\n",
    "\n",
    "N = 2\n",
    "for topic, topic_id in sorted(topic_to_id.items()):\n",
    "    features_chi2 = chi2(features, labels == topic_id)\n",
    "    indices = np.argsort(features_chi2[0])\n",
    "    feature_names = np.array(tfidf.get_feature_names())[indices]\n",
    "    unigrams = [v for v in feature_names if len(v.split()) == 1]\n",
    "    bigrams = [v for v in feature_names if len(v.split()) == 2]\n",
    "    trigrams = [v for v in feature_names if len(v.split()) == 3]\n",
    "    print('For', topic)\n",
    "    print('\\t', 'Unigrams >', unigrams[-N:])\n",
    "    print('\\t', 'Bigrams >', bigrams[-N:])\n",
    "#     print('\\t', 'Trigrams >', trigrams[-N:])"
   ]
  },
  {
   "cell_type": "code",
   "execution_count": 48,
   "metadata": {},
   "outputs": [],
   "source": [
    "# training on a Naive Bayes Classifier\n",
    "\n",
    "from sklearn.model_selection import train_test_split\n",
    "from sklearn.feature_extraction.text import CountVectorizer, TfidfTransformer\n",
    "from sklearn.naive_bayes import MultinomialNB\n",
    "\n",
    "from imblearn.over_sampling import SMOTE\n",
    "from imblearn.under_sampling import EditedNearestNeighbours as ENN\n",
    "\n",
    "count_vect = CountVectorizer()\n",
    "tfidf_transformer = TfidfTransformer()\n",
    "\n",
    "X_train, X_test, Y_train, Y_test = train_test_split(df['message'], df['topic'], random_state=0)\n",
    "# This won't work. X_train is string and would cause value error. \n",
    "# Thus, first vectorize it, then apply SMOTE\n",
    "# X_train, Y_train = SMOTE(random_state=0, ratio=1.0).fit_sample(X_train, Y_train)\n",
    "\n",
    "X_train_counts = count_vect.fit_transform(X_train)\n",
    "\n",
    "# X and Y from tfidf\n",
    "X_train_tfidf = tfidf_transformer.fit_transform(X_train_counts)\n",
    "\n",
    "# SMOTE for oversampling\n",
    "X_train_tfidf_sm, Y_train_sm = SMOTE(random_state=0).fit_sample(X_train_tfidf, Y_train)\n",
    "\n",
    "# ENN for under sampling\n",
    "X_train_tfidf_enn, Y_train_enn = ENN().fit_sample(X_train_tfidf, Y_train)"
   ]
  },
  {
   "cell_type": "code",
   "execution_count": 29,
   "metadata": {},
   "outputs": [],
   "source": [
    "from sklearn.linear_model import LogisticRegression\n",
    "from sklearn.ensemble import RandomForestClassifier\n",
    "from sklearn.svm import LinearSVC\n",
    "from sklearn.naive_bayes import MultinomialNB\n",
    "\n",
    "from sklearn.model_selection import cross_val_score\n",
    "\n",
    "models = {\n",
    "    'random_forest': RandomForestClassifier(n_estimators=200, max_depth=3, random_state=0),\n",
    "    'support_vector': LinearSVC(),\n",
    "    'multinomial_nb': MultinomialNB(),\n",
    "    'logistic_regression': LogisticRegression(random_state=0),\n",
    "}\n",
    "\n",
    "CV = 5\n",
    "cv_df = pd.DataFrame(index=range(CV * len(models)))\n",
    "entries = []\n",
    "for model in models.values():\n",
    "    model_name = model.__class__.__name__\n",
    "    accuracies = cross_val_score(model, features, labels, scoring='accuracy', cv=CV)\n",
    "    for fold_idx, accuracy in enumerate(accuracies):\n",
    "        entries.append((model_name, fold_idx, accuracy))\n",
    "\n",
    "cv_df = pd.DataFrame(entries, columns=['model_name', 'fold_idx', 'accuracy'])"
   ]
  },
  {
   "cell_type": "code",
   "execution_count": 30,
   "metadata": {},
   "outputs": [
    {
     "data": {
      "image/png": "[encoded data removed]",
      "text/plain": [
       "<Figure size 432x288 with 1 Axes>"
      ]
     },
     "metadata": {},
     "output_type": "display_data"
    }
   ],
   "source": [
    "import seaborn as sns\n",
    "\n",
    "sns.boxplot(x='model_name', y='accuracy', data=cv_df)\n",
    "sns.stripplot(x='model_name', y='accuracy', data=cv_df,\n",
    "             size=8, jitter=True, linewidth=2)\n",
    "plt.show()"
   ]
  },
  {
   "cell_type": "code",
   "execution_count": 34,
   "metadata": {},
   "outputs": [
    {
     "data": {
      "image/png": "[encoded data removed]",
      "text/plain": [
       "<Figure size 504x504 with 2 Axes>"
      ]
     },
     "metadata": {},
     "output_type": "display_data"
    }
   ],
   "source": [
    "from sklearn.metrics import confusion_matrix\n",
    "\n",
    "conf_mat = confusion_matrix(Y_test, Y_pred)\n",
    "n_topics = len(selected_topics)\n",
    "fig, ax = plt.subplots(figsize=(n_topics, n_topics))\n",
    "sns.heatmap(conf_mat, annot=True, fmt='d', \n",
    "            xticklabels=selected_topics.index.values,\n",
    "            yticklabels=selected_topics.index.values)\n",
    "plt.ylabel('Actual')\n",
    "plt.xlabel('Predicted')\n",
    "plt.show()"
   ]
  },
  {
   "cell_type": "code",
   "execution_count": 35,
   "metadata": {},
   "outputs": [],
   "source": [
    "# training on a Naive Bayes Classifier\n",
    "\n",
    "from sklearn.model_selection import train_test_split\n",
    "from sklearn.feature_extraction.text import CountVectorizer, TfidfTransformer\n",
    "\n",
    "count_vect = CountVectorizer()\n",
    "tfidf_transformer = TfidfTransformer()\n",
    "\n",
    "X_train, X_test, Y_train, Y_test = train_test_split(df['message'], df['topic'], random_state=0)\n",
    "X_train_counts = count_vect.fit_transform(X_train)\n",
    "X_train_tfidf = tfidf_transformer.fit_transform(X_train_counts)\n",
    "\n",
    "model = LogisticRegression()\n",
    "clf = model.fit(X_train_tfidf, Y_train)\n",
    "accuracies = cross_val_score(clf, features, labels, scoring='accuracy', cv=CV)"
   ]
  },
  {
   "cell_type": "code",
   "execution_count": 36,
   "metadata": {},
   "outputs": [
    {
     "data": {
      "text/plain": [
       "array(['delay'], dtype=object)"
      ]
     },
     "execution_count": 36,
     "metadata": {},
     "output_type": "execute_result"
    }
   ],
   "source": [
    "text = 'i am waiting for driver for more than 2 hours. extremely poor experience'\n",
    "text = 'driver refuses to pick from airport. what the fuck?'\n",
    "clf.predict(count_vect.transform([text]))"
   ]
  }
 ],
 "metadata": {
  "kernelspec": {
   "display_name": "Python 3",
   "language": "python",
   "name": "python3"
  },
  "language_info": {
   "codemirror_mode": {
    "name": "ipython",
    "version": 3
   },
   "file_extension": ".py",
   "mimetype": "text/x-python",
   "name": "python",
   "nbconvert_exporter": "python",
   "pygments_lexer": "ipython3",
   "version": "3.6.6"
  }
 },
 "nbformat": 4,
 "nbformat_minor": 2
}
